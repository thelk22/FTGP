{
 "cells": [
  {
   "cell_type": "code",
   "execution_count": 24,
   "metadata": {},
   "outputs": [],
   "source": [
    "import sys\n",
    "import pprint\n",
    "import binascii\n",
    "import mnemonic as mn\n",
    "import bip32utils\n",
    "\n",
    "mnemonic_string = \"sign stadium slight inform frost harbor mix ghost process monkey wasp glance\""
   ]
  },
  {
   "cell_type": "code",
   "execution_count": 15,
   "metadata": {},
   "outputs": [
    {
     "data": {
      "text/plain": [
       "['abandon', 'ability', 'able', 'about', 'above']"
      ]
     },
     "execution_count": 15,
     "metadata": {},
     "output_type": "execute_result"
    }
   ],
   "source": [
    "# Select first 5 words of mnemonic word list\n",
    "mobj = mn.Mnemonic('english')\n",
    "mobj.wordlist[0:5]"
   ]
  },
  {
   "cell_type": "code",
   "execution_count": 17,
   "metadata": {},
   "outputs": [],
   "source": [
    "# Generate the seed from the mnemonic\n",
    "seed = mobj.to_seed(mnemonic_string)"
   ]
  },
  {
   "cell_type": "code",
   "execution_count": 29,
   "metadata": {},
   "outputs": [
    {
     "name": "stdout",
     "output_type": "stream",
     "text": [
      "<bound method BIP32Key.PrivateKey of <bip32utils.BIP32Key.BIP32Key object at 0x7f7dddbf2550>>\n",
      "<bound method BIP32Key.PublicKey of <bip32utils.BIP32Key.BIP32Key object at 0x7f7dddbf2550>>\n",
      "<bound method BIP32Key.Address of <bip32utils.BIP32Key.BIP32Key object at 0x7f7dddbf2550>>\n"
     ]
    }
   ],
   "source": [
    "# Generate the root key from the seed\n",
    "key = bip32utils.BIP32Key.fromEntropy(seed)\n",
    "\n",
    "# Print private part of key \n",
    "pprint.pprint(key.PrivateKey)\n",
    "\n",
    "# Print public part of key \n",
    "print(key.PublicKey)\n",
    "\n",
    "# Print address\n",
    "print(key.Address)\n"
   ]
  },
  {
   "cell_type": "code",
   "execution_count": null,
   "metadata": {},
   "outputs": [],
   "source": []
  }
 ],
 "metadata": {
  "kernelspec": {
   "display_name": "Python 3",
   "language": "python",
   "name": "python3"
  },
  "language_info": {
   "codemirror_mode": {
    "name": "ipython",
    "version": 3
   },
   "file_extension": ".py",
   "mimetype": "text/x-python",
   "name": "python",
   "nbconvert_exporter": "python",
   "pygments_lexer": "ipython3",
   "version": "3.7.6"
  }
 },
 "nbformat": 4,
 "nbformat_minor": 4
}
