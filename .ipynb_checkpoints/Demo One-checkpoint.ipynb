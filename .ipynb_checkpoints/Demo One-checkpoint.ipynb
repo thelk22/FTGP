{
 "cells": [
  {
   "cell_type": "markdown",
   "metadata": {},
   "source": [
    "\n",
    "# Demonstration One\n",
    "## Aims\n",
    "The main aim of today's demonstration is to familiarize you with Hashing and how it's going to be used in Jupyter notebook enviroment.\n",
    "\n",
    "NB: Please note that the main aim behind this particular Jupyter notebook is not to use this editor as your primary IDE but to demonstrate to you some of the programming techniques and key knowledge that you might have acquired from previous modules.\n",
    "\n",
    "## What is required?\n",
    "In this demonstration, you are expected to go through the cells and understand what each code means. You are encouraged to develop your own methods of redoing these codes and try to implement new ways of doing similar tasks. Actually, this would be the main aim of the Tutorial/Lab sessions! In the Tutorial, you will be expected to have read and discuss this document in order to be able to solve the tutorial questions. \n",
    "\n",
    "## What do I encourage you to do after you are done with these codes?\n",
    "After you're done with these codes, I genuinely recommend that you try to implement this information in a different set-ups. Although this is not part of the module, it will help you improve your computing and programming skills.\n",
    "\n",
    " <hr />"
   ]
  },
  {
   "cell_type": "markdown",
   "metadata": {},
   "source": [
    "# Introduction\n",
    "\n",
    "## Some Definitions & Terminology \n",
    "\n",
    "\n",
    "### What is byte?\n",
    "Byte, the basic unit of information in computer storage and processing. A byte consists of 8 adjacent binary digits (bits), each of which consists of a 0 or 1. \n",
    "\n",
    "For numeric data, one byte holds a binary number from 0 to 255. This is a modern de facto standard of eight bits as documented by International Organization for Standardization (ISO) and the International Electrotechnical Commission (IEC).\n",
    "\n",
    "This can be easly observed by simply knowing the rules of probability and statstics. For example, knowing how to answer how many outcomes exists if we toss a coin twice: TT, HH, TH, HT. This means that there are 4 outcomes or $2^2$. Since each observation has 2 sets of outcomes H or T. \n",
    "\n",
    "Nice explanation would be found in this [video](https://www.youtube.com/watch?v=y45v5SLjxaM).\n",
    "\n",
    "\n",
    "### How many byte per character? \n",
    "\n",
    "It depends on the encoding method!\n",
    "\n",
    "\n",
    "\n",
    "<blockquote>\n",
    "The number of bytes of storage occupied by a single character depends on the character encoding you are using. A programming language might support one or two encodings, or might support a wide variety of character encodings. Likewise, an operating system, file system, etc. may support one or two encodings, or might support a wide variety of encodings. The number of bytes used for each character limits the number of unique characters that can be represented.\n",
    "    \n",
    "Here are a few examples:\n",
    "\n",
    "<ul>\n",
    "    <li>ASCII (1 byte per character)</li>\n",
    "    <li>ISO 10646</li>\n",
    "    <ul>\n",
    "        <li>UCS-2 (2 bytes per character)</li>\n",
    "        <li>UCS-4 (4 bytes per character)</li>\n",
    "    </ul>\n",
    "    <li>Unicode</li>\n",
    "    <ul>\n",
    "        <li>UTF-8 (variable: 1, 2, 3, or 4 bytes per character)</li>\n",
    "        <li>UTF-16 (variable: 2 or 4 bytes per character)</li>\n",
    "        <li>UTF-32 (4 bytes per character)</li>\n",
    "    </ul>\n",
    "</ul>\n",
    "</blockquote>\n",
    "> -- <cite>Ken Gregg, Software Engineering and Management Positions</cite>"
   ]
  },
  {
   "cell_type": "code",
   "execution_count": 1,
   "metadata": {},
   "outputs": [
    {
     "data": {
      "text/plain": [
       "4"
      ]
     },
     "execution_count": 1,
     "metadata": {},
     "output_type": "execute_result"
    }
   ],
   "source": [
    "# Let us try to get the size of string in bytes\n",
    "len(\"Rami\".encode('utf-8'))"
   ]
  },
  {
   "cell_type": "code",
   "execution_count": 2,
   "metadata": {},
   "outputs": [
    {
     "data": {
      "text/plain": [
       "11"
      ]
     },
     "execution_count": 2,
     "metadata": {},
     "output_type": "execute_result"
    }
   ],
   "source": [
    "# Let us try to get the size of string in bytes\n",
    "len(\"Rami Chehab\".encode('utf-8'))"
   ]
  },
  {
   "cell_type": "markdown",
   "metadata": {},
   "source": [
    "This means we have 4 bytes in \"Rami\" and 11 bytes in \"Rami Chehab\". But this is all using the utf-8 encoding. What about the utf-16?"
   ]
  },
  {
   "cell_type": "code",
   "execution_count": 3,
   "metadata": {},
   "outputs": [
    {
     "data": {
      "text/plain": [
       "24"
      ]
     },
     "execution_count": 3,
     "metadata": {},
     "output_type": "execute_result"
    }
   ],
   "source": [
    "# Let us try to get the size of string in bytes\n",
    "len(\"Rami Chehab\".encode('utf-16'))"
   ]
  },
  {
   "cell_type": "markdown",
   "metadata": {},
   "source": [
    "### What is an encoding method (aka Character encoding)?\n",
    "\n",
    "The english definition of \"encoding\" means to convert something into a code form! \n",
    "\n",
    "In computer technology, encoding is the process of applying a specific code, such as letters, symbols and numbers, to data for conversion into an equivalent cipher.\n",
    "\n",
    "* In cryptography, a cipher (or cypher) is an algorithm for performing encryption or decryption—a series of well-defined steps that can be followed as a procedure [link](https://en.wikipedia.org/wiki/Cipher).\n",
    "\n",
    "In electronics, encoding refers to analog to digital conversion.\n",
    "\n",
    "Character encoding is used to represent a repertoire of characters by some kind of encoding system that assigns a number to each character for digital representation. Character encoding using internationally accepted standards permits worldwide interchange of text in electronic form.\n",
    "\n",
    "Handling character encodings in Python or any other language can at times seem painful. This is a very helpful [link](https://realpython.com/python-encodings-guide/) to get you started in understanding this in further details. However, the ideas you might find in this link is out of the scope of this module but it will be good for you to know in the long run. "
   ]
  },
  {
   "cell_type": "markdown",
   "metadata": {},
   "source": [
    "## Getting started!\n",
    "\n",
    "Python ships with the standard stash of popular hash functions $hash(x)=f(x)$; they are available in the hashlib library. Python hashlib hashing function takes variable length of bytes and converts it into a fixed length sequence. \n",
    "\n",
    "This is an essential step to understand PoW algorithm. In particular, there are many cryptographic hash functions available in this library. The most well-known cryptographic set of hash functions is the Secure Hash Algorithm 2 (a.k.a SHA-2). Designed by the United States National Security Agency (NSA),  SHA-2 family consists of six hash functions with digests (hash values) that are 224, 256, 384 or 512 bits.\n",
    "\n",
    "The one we shall be using in this demonstration is the SHA256 algorithm that generates an almost unique, fixed-size 256-bit (32-byte) hash.  \n",
    "\n",
    "**Note**: Bitcoin uses double iterated SHA-256, or SHA-256(SHA-256()), also known as sha256d in most algorithm listings. Ethereum uses Keccak-256 in a consensus engine called [Ethash](https://en.bitcoinwiki.org/wiki/Ethash). Keccak is a family of hash functions that eventually got standardized to SHA-3 (SHA256 is part of a family of hash functions called SHA-2). Ethereum called it Keccak instead of SHA-3 as it has slightly different parameters than the current SHA-3. Colloquially, Ethereum mining is never called Keccak mining because Ethash utilizes mixhashes in a DAG, which is different from Hashcash proof-of-work.\n",
    "\n",
    "\n",
    "### Common Questions?\n",
    "\n",
    "The questions and the answers are available [here](https://www.freeformatter.com/sha256-generator.html#ad-output).\n",
    "\n",
    "* When to use SHA-256? \n",
    "    \n",
    "    SHA-256, like other hash functions, is used in digital signatures, message authentication codes, to index data in hash tables, for finger-printing, to detect duplicate data, uniquely identify files, and as checksums to detect accidental data corruption.\n",
    "    \n",
    "\n",
    "* How can I decrypt SHA-256?\n",
    "\n",
    "    You can't! SHA-256 is NOT an encryption algorithm! A lot of people are under the impression that SHA-256 encrypts data. It does no such thing. All it does is compute a hash value for a given set of data.\n",
    "    \n",
    "    \n",
    "* How do I reverse SHA-256?\n",
    " \n",
    "     You can't! SHA-256 is NOT reversible. Hash functions are used as one-way methods. They take the data (messages) and compute hash values (digests). The inverse can't be done.\n",
    "     \n",
    "<hr/>"
   ]
  },
  {
   "cell_type": "code",
   "execution_count": 4,
   "metadata": {},
   "outputs": [
    {
     "data": {
      "text/plain": [
       "32.0"
      ]
     },
     "execution_count": 4,
     "metadata": {},
     "output_type": "execute_result"
    }
   ],
   "source": [
    "# Every byte is 8 bits so how many bytes in 256-bit?! \n",
    "256/8"
   ]
  },
  {
   "cell_type": "code",
   "execution_count": 5,
   "metadata": {},
   "outputs": [],
   "source": [
    "import json\n",
    "from datetime import datetime\n",
    "import hashlib"
   ]
  },
  {
   "cell_type": "code",
   "execution_count": 6,
   "metadata": {},
   "outputs": [
    {
     "ename": "TypeError",
     "evalue": "Unicode-objects must be encoded before hashing",
     "output_type": "error",
     "traceback": [
      "\u001b[1;31m---------------------------------------------------------------------------\u001b[0m",
      "\u001b[1;31mTypeError\u001b[0m                                 Traceback (most recent call last)",
      "\u001b[1;32m<ipython-input-6-77329edcf7f3>\u001b[0m in \u001b[0;36m<module>\u001b[1;34m\u001b[0m\n\u001b[1;32m----> 1\u001b[1;33m \u001b[0moutput\u001b[0m \u001b[1;33m=\u001b[0m \u001b[0mhashlib\u001b[0m\u001b[1;33m.\u001b[0m\u001b[0msha256\u001b[0m\u001b[1;33m(\u001b[0m\u001b[1;34m'Rami'\u001b[0m\u001b[1;33m)\u001b[0m\u001b[1;33m\u001b[0m\u001b[1;33m\u001b[0m\u001b[0m\n\u001b[0m\u001b[0;32m      2\u001b[0m \u001b[0moutput\u001b[0m\u001b[1;33m\u001b[0m\u001b[1;33m\u001b[0m\u001b[0m\n",
      "\u001b[1;31mTypeError\u001b[0m: Unicode-objects must be encoded before hashing"
     ]
    }
   ],
   "source": [
    "output = hashlib.sha256('Rami')\n",
    "output"
   ]
  },
  {
   "cell_type": "markdown",
   "metadata": {},
   "source": [
    "## Some Important Points!\n",
    "\n",
    "### What is Unicode?\n",
    "\n",
    "Unicode is an industry standard for consistent encoding of written text. Its aim is to provide a unique number to identify every character for every language, on any platform! \n",
    "\n",
    "Unicode maps every character to a specific code, called **code point**. \n",
    "\n",
    "Unicode defines different characters encodings, the most used ones being UTF-8, UTF-16 and UTF-32. UTF-8 is definitely the most popular encoding in the Unicode family, especially on the Web. Currently there are more than 135.000 different characters implemented, with space for more than 1.1 millions.\n",
    "\n",
    "\n",
    "### But how many bytes is this string ```Rami```?\n",
    "\n",
    "As mentioned earlier, it depends on the encoding method used. It is important to note that using the ASCII values, each 1 byte may hold 1 character! See this [link](https://stackoverflow.com/questions/21300929/how-many-characters-can-you-store-with-1-byte) for futher details.\n",
    "\n",
    "In python, ```chr()``` method returns a string representing a character whose Unicode code point is an integer. Unicode is an information technology standard for the consistent encoding, representation, and handling of text expressed in most of the world's writing systems.\n",
    "\n",
    "UTF-8, the dominant encoding on the World Wide Web (used in over 95% of websites as of 2020, and up to 100% for some languages) and on most Unix-like operating systems, uses one byte (8 bits) for the first 128 code points, and up to 4 bytes for other characters.The first 128 Unicode code points represent the ASCII characters, which means that any **ASCII text is also a UTF-8 text**. Wikipedia link [here](https://en.wikipedia.org/wiki/Unicode)."
   ]
  },
  {
   "cell_type": "code",
   "execution_count": 7,
   "metadata": {},
   "outputs": [
    {
     "name": "stdout",
     "output_type": "stream",
     "text": [
      "Character of ASCII value 97 is  a\n",
      "Character of ASCII value 33 is  !\n",
      "Character of ASCII value 38 is  &\n",
      "Character of ASCII value 70 is  F\n",
      "Character of ASCII value 79 is  O\n",
      "Character of ASCII value 105 is  i\n",
      "Character of ASCII value 110 is  n\n",
      "Character of ASCII value 120 is  x\n",
      "Character of ASCII value 128 is  \n",
      "Character of ASCII value 0 is  \u0000\n",
      "Character of ASCII value 2 is  \u0002\n",
      "Character of ASCII value 49 is  1\n",
      "Character of ASCII value 124 is  |\n"
     ]
    }
   ],
   "source": [
    "numbers = [97, 33, 38,70, 79, 105, 110, 120, 128, 0, 2, 49, 124]\n",
    "  \n",
    "for number in numbers:    \n",
    "    # Convert ASCII-based number to character.\n",
    "    letter = chr(number)\n",
    "    print(\"Character of ASCII value\", number, \"is \", letter)"
   ]
  },
  {
   "cell_type": "markdown",
   "metadata": {},
   "source": [
    "### So what was the error again!\n",
    "\n",
    "``` TypeError: Unicode-objects must be encoded before hashing ```\n",
    "\n",
    "The error is because we need to use an encoded input to the hash function SHA-256 and the string known by ```Rami``` is not a bytes type string! It was not encoded!  \n",
    "\n",
    "### How do we encode the input variable so that we change the type of the string to an encoded variable? "
   ]
  },
  {
   "cell_type": "code",
   "execution_count": 8,
   "metadata": {},
   "outputs": [
    {
     "data": {
      "text/plain": [
       "str"
      ]
     },
     "execution_count": 8,
     "metadata": {},
     "output_type": "execute_result"
    }
   ],
   "source": [
    "Input_variable=\"Rami\"\n",
    "type(Input_variable)"
   ]
  },
  {
   "cell_type": "markdown",
   "metadata": {},
   "source": [
    "In python, the encode() method turns strings to bytes"
   ]
  },
  {
   "cell_type": "code",
   "execution_count": 9,
   "metadata": {},
   "outputs": [
    {
     "data": {
      "text/plain": [
       "bytes"
      ]
     },
     "execution_count": 9,
     "metadata": {},
     "output_type": "execute_result"
    }
   ],
   "source": [
    "type(Input_variable.encode())"
   ]
  },
  {
   "cell_type": "code",
   "execution_count": 10,
   "metadata": {},
   "outputs": [
    {
     "data": {
      "text/plain": [
       "4"
      ]
     },
     "execution_count": 10,
     "metadata": {},
     "output_type": "execute_result"
    }
   ],
   "source": [
    "# What is the length of the input variable?\n",
    "Input_variable=\"Rami\"\n",
    "len(Input_variable.encode('utf-8'))"
   ]
  },
  {
   "cell_type": "code",
   "execution_count": 11,
   "metadata": {},
   "outputs": [
    {
     "data": {
      "text/plain": [
       "bytes"
      ]
     },
     "execution_count": 11,
     "metadata": {},
     "output_type": "execute_result"
    }
   ],
   "source": [
    "# Or you can do it as so\n",
    "Input_variable=b\"Rami\"\n",
    "type(Input_variable)"
   ]
  },
  {
   "cell_type": "markdown",
   "metadata": {},
   "source": [
    "## A fresh start again!\n",
    "\n",
    "Having learned the basic concepts, it is important to apply things again with a new mindset. \n",
    "\n",
    "<hr/>"
   ]
  },
  {
   "cell_type": "code",
   "execution_count": 12,
   "metadata": {},
   "outputs": [],
   "source": [
    "import hashlib\n",
    "output = hashlib.sha256(b\"Rami\")"
   ]
  },
  {
   "cell_type": "code",
   "execution_count": 13,
   "metadata": {},
   "outputs": [
    {
     "data": {
      "text/plain": [
       "b'\\xca\\xdf\\x0fQ\\xe2L~\\xc0\\xb0V\\xc3)[\\xb1\\xf8st\\x1c\\x97\\xa4\\xd3\\xdc$\\t@E\\xc9\\x1e\\x96\\x95\\xe5\\x89'"
      ]
     },
     "execution_count": 13,
     "metadata": {},
     "output_type": "execute_result"
    }
   ],
   "source": [
    "output.digest()"
   ]
  },
  {
   "cell_type": "markdown",
   "metadata": {},
   "source": [
    "This implies that the output of the hash function, $f$, of the string ```Rami``` is $f(Rami)$=```b'\\xca\\xdf\\x0fQ\\xe2L~\\xc0\\xb0V\\xc3)[\\xb1\\xf8st\\x1c\\x97\\xa4\\xd3\\xdc$\\t@E\\xc9\\x1e\\x96\\x95\\xe5\\x89' ```"
   ]
  },
  {
   "cell_type": "code",
   "execution_count": 14,
   "metadata": {
    "scrolled": true
   },
   "outputs": [
    {
     "data": {
      "text/plain": [
       "32"
      ]
     },
     "execution_count": 14,
     "metadata": {},
     "output_type": "execute_result"
    }
   ],
   "source": [
    "len('\\xca\\xdf\\x0fQ\\xe2L~\\xc0\\xb0V\\xc3)[\\xb1\\xf8st\\x1c\\x97\\xa4\\xd3\\xdc$\\t@E\\xc9\\x1e\\x96\\x95\\xe5\\x89')"
   ]
  },
  {
   "cell_type": "markdown",
   "metadata": {},
   "source": [
    "This means that the output of this hash function is a string of 32 character where each consitute a byte! "
   ]
  },
  {
   "cell_type": "code",
   "execution_count": 15,
   "metadata": {},
   "outputs": [
    {
     "data": {
      "text/plain": [
       "32"
      ]
     },
     "execution_count": 15,
     "metadata": {},
     "output_type": "execute_result"
    }
   ],
   "source": [
    "# Finding the length in a built-in method!\n",
    "output.digest_size"
   ]
  },
  {
   "cell_type": "markdown",
   "metadata": {},
   "source": [
    "General Notes: \n",
    "\n",
    "1. The correct term for the output of a hash function is a “digest,” but “hash” has become commonplace!\n",
    "2. If you are interested to understand further what is ```hash.digest``` please refer to the following [page](https://docs.python.org/3/library/hashlib.html#hashlib.hash.hexdigest).\n",
    "3. Sometimes, it is easier to use hexdigest() method because it is easier to read!"
   ]
  },
  {
   "cell_type": "markdown",
   "metadata": {},
   "source": [
    "### What does hexdigest mean? \n",
    "\n",
    "Hesdigest mean that the output digest of the hash function should have a hexdecimal digits output as opposed to 256! \n",
    "In mathematics and computing, the hexadecimal (also base 16 or hex) numeral system is a positional numeral system that represents numbers using a radix (base) of 16. Unlike the common way of representing numbers using 10 symbols, hexadecimal uses 16 distinct symbols, most often the symbols \"0\"–\"9\" to represent values 0 to 9, and \"A\"–\"F\" (or alternatively \"a\"–\"f\") to represent values 10 to 15.\n",
    "\n",
    "**In almost all modern use, the letters A–F or a–f represent the values 10–15, while the numerals 0–9 are used to represent their usual values.** \n",
    "\n",
    "Note: It is important to note that each 8-bit (1 byte) is a 2-digit hex number!  This implies that each one-digit hex number is equivalent to $\\frac{1}{2}$ byte!\n",
    "\n",
    "Question: How many hex digits constitute 32 byte?"
   ]
  },
  {
   "cell_type": "code",
   "execution_count": 16,
   "metadata": {},
   "outputs": [
    {
     "data": {
      "text/plain": [
       "64"
      ]
     },
     "execution_count": 16,
     "metadata": {},
     "output_type": "execute_result"
    }
   ],
   "source": [
    "# Based on the aquired knowledge! 1 digit is 0.5 byte hence 1 byte is 2 digits\n",
    "32*2"
   ]
  },
  {
   "cell_type": "markdown",
   "metadata": {},
   "source": [
    "So it we need 64 characters of a hexdecimal to represent 32 byte! Does this remind you of anything?!"
   ]
  },
  {
   "cell_type": "code",
   "execution_count": 17,
   "metadata": {},
   "outputs": [
    {
     "data": {
      "text/plain": [
       "'a8cfcd74832004951b4408cdb0a5dbcd8c7e52d43f7fe244bf720582e05241da'"
      ]
     },
     "execution_count": 17,
     "metadata": {},
     "output_type": "execute_result"
    }
   ],
   "source": [
    "hashlib.sha256(b\"John\").hexdigest()"
   ]
  },
  {
   "cell_type": "code",
   "execution_count": 18,
   "metadata": {},
   "outputs": [
    {
     "data": {
      "text/plain": [
       "64"
      ]
     },
     "execution_count": 18,
     "metadata": {},
     "output_type": "execute_result"
    }
   ],
   "source": [
    "len('a8cfcd74832004951b4408cdb0a5dbcd8c7e52d43f7fe244bf720582e05241da')"
   ]
  },
  {
   "cell_type": "markdown",
   "metadata": {},
   "source": [
    "This is 64 digits which is in hexdecimal hence giving you 32 bytes which is the output of the SHA-256!"
   ]
  },
  {
   "cell_type": "code",
   "execution_count": 19,
   "metadata": {},
   "outputs": [
    {
     "data": {
      "text/plain": [
       "b'\\xca\\xdf\\x0fQ\\xe2L~\\xc0\\xb0V\\xc3)[\\xb1\\xf8st\\x1c\\x97\\xa4\\xd3\\xdc$\\t@E\\xc9\\x1e\\x96\\x95\\xe5\\x89'"
      ]
     },
     "execution_count": 19,
     "metadata": {},
     "output_type": "execute_result"
    }
   ],
   "source": [
    "# What would the digest be in bytes?\n",
    "output.digest()"
   ]
  },
  {
   "cell_type": "code",
   "execution_count": 20,
   "metadata": {},
   "outputs": [
    {
     "data": {
      "text/plain": [
       "32"
      ]
     },
     "execution_count": 20,
     "metadata": {},
     "output_type": "execute_result"
    }
   ],
   "source": [
    "# What is the size of the hash output in bytes?\n",
    "output.digest_size"
   ]
  },
  {
   "cell_type": "code",
   "execution_count": 21,
   "metadata": {},
   "outputs": [
    {
     "data": {
      "text/plain": [
       "'cadf0f51e24c7ec0b056c3295bb1f873741c97a4d3dc24094045c91e9695e589'"
      ]
     },
     "execution_count": 21,
     "metadata": {},
     "output_type": "execute_result"
    }
   ],
   "source": [
    "output.hexdigest()"
   ]
  },
  {
   "cell_type": "code",
   "execution_count": 22,
   "metadata": {},
   "outputs": [
    {
     "data": {
      "text/plain": [
       "'5f00368a6ad231c3c439c4f6bc33c27014b4d35a904ff1656d74f9528636f496'"
      ]
     },
     "execution_count": 22,
     "metadata": {},
     "output_type": "execute_result"
    }
   ],
   "source": [
    "# Convert a byte to hexdecimal \n",
    "b'_\\x006\\x8aj\\xd21\\xc3\\xc49\\xc4\\xf6\\xbc3\\xc2p\\x14\\xb4\\xd3Z\\x90O\\xf1emt\\xf9R\\x866\\xf4\\x96'.hex()"
   ]
  },
  {
   "cell_type": "code",
   "execution_count": 23,
   "metadata": {},
   "outputs": [
    {
     "data": {
      "text/plain": [
       "b'_\\x006\\x8aj\\xd21\\xc3\\xc49\\xc4\\xf6\\xbc3\\xc2p\\x14\\xb4\\xd3Z\\x90O\\xf1emt\\xf9R\\x866\\xf4\\x96'"
      ]
     },
     "execution_count": 23,
     "metadata": {},
     "output_type": "execute_result"
    }
   ],
   "source": [
    "# Convert a hexdecimal to byte?\n",
    "bytes.fromhex('5f00368a6ad231c3c439c4f6bc33c27014b4d35a904ff1656d74f9528636f496')"
   ]
  },
  {
   "cell_type": "code",
   "execution_count": 24,
   "metadata": {},
   "outputs": [
    {
     "data": {
      "text/plain": [
       "1705796823095023031783063902406218529597772475605763500820484872602017370"
      ]
     },
     "execution_count": 24,
     "metadata": {},
     "output_type": "execute_result"
    }
   ],
   "source": [
    "# convert hexdecimal to decimal in Python? \n",
    "i = int(\"0000f727854b50bb95c054b39c1fe5c92e5ebcfa4bcb5dc279f56aa96a365e5a\", 16)\n",
    "i"
   ]
  },
  {
   "cell_type": "markdown",
   "metadata": {},
   "source": [
    "## Summary\n",
    "\n",
    "The above extract reviewed important topics in cryptography and computer science! It shows that any text (image or data) could be hashed (digested) using hash functions. Hash functions should satisfy certain characteristics that need to be well-understood and can be found for additional reading in one of the recommended textbooks for this module. This book is known by Learn Blockchain by Building One: A Concise Path to Understanding Cryptocurrencies. "
   ]
  },
  {
   "cell_type": "markdown",
   "metadata": {},
   "source": [
    "<hr/>\n",
    "\n",
    "# HashCash! \n",
    "\n",
    "Here you will only find a random bits of codes that will help you in doing question 2 in the tutorial. \n",
    "\n",
    "<hr/>"
   ]
  },
  {
   "cell_type": "code",
   "execution_count": 25,
   "metadata": {},
   "outputs": [
    {
     "data": {
      "text/plain": [
       "'e3b0c44298fc1c149afbf4c8996fb92427ae41e4649b934ca495991b7852b855'"
      ]
     },
     "execution_count": 25,
     "metadata": {},
     "output_type": "execute_result"
    }
   ],
   "source": [
    "email_body=\"\"\n",
    "hashlib.sha256(email_body.encode()).hexdigest()"
   ]
  },
  {
   "cell_type": "code",
   "execution_count": 26,
   "metadata": {},
   "outputs": [
    {
     "data": {
      "text/plain": [
       "'336aa7e0c1df63179f044deebc00bb3e4bcecc20250294a5237ed6387fe1658d'"
      ]
     },
     "execution_count": 26,
     "metadata": {},
     "output_type": "execute_result"
    }
   ],
   "source": [
    "email_body = \"Hey Bob, I think you should learn about Blockchains! \" \\\n",
    "             \"I've been investing in Bitcoin and currently have exactly 12.03 BTC in my account.\"\n",
    "\n",
    "hashlib.sha256(email_body.encode()).hexdigest()"
   ]
  },
  {
   "cell_type": "code",
   "execution_count": 27,
   "metadata": {},
   "outputs": [
    {
     "name": "stdout",
     "output_type": "stream",
     "text": [
      "Hey Bob, I think you should learn about Blockchains! I've been investing in Bitcoin and currently have exactly 12.03 BTC in my account.\n"
     ]
    }
   ],
   "source": [
    "print(email_body)"
   ]
  },
  {
   "cell_type": "code",
   "execution_count": 28,
   "metadata": {},
   "outputs": [],
   "source": [
    "secret_phrase = \"bolognese\""
   ]
  },
  {
   "cell_type": "code",
   "execution_count": 29,
   "metadata": {},
   "outputs": [
    {
     "data": {
      "text/plain": [
       "\"Hey Bob, I think you should learn about Blockchains! I've been investing in Bitcoin and currently have exactly 12.03 BTC in my account.bolognese\""
      ]
     },
     "execution_count": 29,
     "metadata": {},
     "output_type": "execute_result"
    }
   ],
   "source": [
    "email_body+secret_phrase"
   ]
  },
  {
   "cell_type": "code",
   "execution_count": 30,
   "metadata": {},
   "outputs": [],
   "source": [
    "A=email_body+secret_phrase"
   ]
  },
  {
   "cell_type": "code",
   "execution_count": 31,
   "metadata": {},
   "outputs": [
    {
     "data": {
      "text/plain": [
       "'71890dc61c21370874d2a7b74064396cb613a1924f09aa06925abc7842e6802c'"
      ]
     },
     "execution_count": 31,
     "metadata": {},
     "output_type": "execute_result"
    }
   ],
   "source": [
    "hashlib.sha256(A.encode()).hexdigest()"
   ]
  },
  {
   "cell_type": "code",
   "execution_count": 32,
   "metadata": {},
   "outputs": [
    {
     "name": "stdout",
     "output_type": "stream",
     "text": [
      "2b7178ac8b1b44219114f5b2574fa910d715387a889cbcd40d4a38169c8d6b63\n"
     ]
    }
   ],
   "source": [
    "secret_phrase = \"bolognese\"\n",
    "\n",
    "\n",
    "def get_hash_with_secret_phrase(input_data, secret_phrase):\n",
    "    combined = input_data + secret_phrase\n",
    "    return hashlib.sha256(combined.encode()).hexdigest()\n",
    "\n",
    "\n",
    "email_body = \"Hey Ethan, I think you should buy some Bitcoins!\" \\\n",
    "             \"s8763ASdh727212213098\"\n",
    "\n",
    "print(get_hash_with_secret_phrase(email_body, secret_phrase))"
   ]
  },
  {
   "cell_type": "code",
   "execution_count": 33,
   "metadata": {},
   "outputs": [
    {
     "data": {
      "text/plain": [
       "'Hey Ethan, I think you should buy some Bitcoins!s8763ASdh727212213098'"
      ]
     },
     "execution_count": 33,
     "metadata": {},
     "output_type": "execute_result"
    }
   ],
   "source": [
    "email_body = \"Hey Ethan, I think you should buy some Bitcoins!\" \\\n",
    "             \"s8763ASdh727212213098\"\n",
    "email_body"
   ]
  },
  {
   "cell_type": "markdown",
   "metadata": {},
   "source": [
    "## What does a block look like?\n",
    "\n",
    "Fundamentally, a blockchain is a data structure. It is a linked list, or chain, of unique “blocks.” Each block points to the previous one, and is itself a list of transactions. \n",
    "\n",
    "1. Only Ethereum block creators determine the attributes of a block, such as which transactions are included! \n",
    "\n",
    "2. Only Ethereum users determine the attributes of a transaction, such as which contract to send data to. \n",
    "\n",
    "As smart contract developers, we frequently need to be aware of the state of the block as well as the state of the transaction that is currently executing.\n",
    "\n",
    "In the following code, we will only provide an example that does not represent all the recorded information of a block but it is worth understanding how to write/code this in Python! "
   ]
  },
  {
   "cell_type": "code",
   "execution_count": 34,
   "metadata": {},
   "outputs": [
    {
     "data": {
      "text/plain": [
       "{'index': 1038,\n",
       " 'timestamp': '2020-02-25T08:07:42.170675',\n",
       " 'data': [{'sender': 'bob', 'recipient': 'alice', 'amount': '$5'}],\n",
       " 'hash': '83b2ac5b',\n",
       " 'previous_hash': '2cf24ba5f'}"
      ]
     },
     "execution_count": 34,
     "metadata": {},
     "output_type": "execute_result"
    }
   ],
   "source": [
    "block_1038 = {\n",
    "    'index': 1038,\n",
    "    'timestamp': \"2020-02-25T08:07:42.170675\",\n",
    "    'data': [\n",
    "    {\n",
    "    'sender': \"bob\",\n",
    "    'recipient': \"alice\",\n",
    "    'amount': \"$5\",}\n",
    "    ],\n",
    "    'hash': \"83b2ac5b\",\n",
    "    'previous_hash': \"2cf24ba5f\"\n",
    "    }\n",
    "\n",
    "block_1038"
   ]
  },
  {
   "cell_type": "markdown",
   "metadata": {},
   "source": [
    "* Index/number stands for the sequence of the block in the blockchain for example this block is block number 1038 in the sequence!\n",
    "* timestamp is a representative of the time the block was created! In Etherum, the time in seconds since epoch that the block was created. The \"epoch\" serves as a reference point from which time is measured.\n",
    "* Hash: each block is uniquely identified by its hash. Although this hash may not be hexadecimal, a hash key, on the ethereum blockchain, is a hexadecimal number. \n",
    "* Sender: The address of the caller of the currently executed external or public function.\n",
    "* value/amount: The amount of wei that is being sent to this function.\n",
    "\n",
    "**Note that there are other attributes that we will discuss during the course, but this is only the beging for you to get started with understanding Blocks within a blockchain!**. For example, one important attribute that we did not mention here is nonce! We will talk about it in this tutorial after we mention the genesis block! \n",
    "\n"
   ]
  },
  {
   "cell_type": "markdown",
   "metadata": {},
   "source": [
    "On top of this relatively simple list-of-lists data structure is laid the key innovation that blockchains have given us: a protocol for how blocks are added to the chain without any central authority."
   ]
  },
  {
   "cell_type": "code",
   "execution_count": 35,
   "metadata": {},
   "outputs": [],
   "source": [
    "# Representing a blockchain using a class\n",
    "\n",
    "\n",
    "class Blockchain(object):\n",
    "    def __init__(self):\n",
    "        self.chain = []\n",
    "        self.pending_transactions = []\n",
    "\n",
    "        # Create the genesis block\n",
    "        print(\"Creating genesis block\")\n",
    "        self.new_block()\n",
    "\n",
    "    def last_block(self):\n",
    "        # Returns the last block in the chain (if there are blocks)\n",
    "        return self.chain[-1] if self.chain else None\n",
    "\n",
    "    # Create a new block! \n",
    "    def new_block(self, previous_hash=None):\n",
    "        block = {\n",
    "            'index': len(self.chain),\n",
    "            'timestamp': datetime.utcnow().isoformat(),\n",
    "            'transactions': self.pending_transactions,\n",
    "            'previous_hash': previous_hash,\n",
    "        }\n",
    "        \n",
    "        # Get the hash of this new block, and add it to the block\n",
    "        block_hash = self.hash(block)\n",
    "        block[\"hash\"] = block_hash\n",
    "\n",
    "        # Reset the list of pending transactions\n",
    "        self.pending_transactions = []\n",
    "        # Add the block to the chain\n",
    "        self.chain.append(block)\n",
    "\n",
    "        print(f\"Created block {block['index']}\")\n",
    "        return block\n",
    "\n",
    "    @staticmethod\n",
    "    def hash(block):\n",
    "        # We ensure the dictionary is sorted or we'll have inconsistent hashes\n",
    "        block_string = json.dumps(block, sort_keys=True).encode()\n",
    "        return hashlib.sha256(block_string).hexdigest()"
   ]
  },
  {
   "cell_type": "code",
   "execution_count": 36,
   "metadata": {},
   "outputs": [
    {
     "name": "stdout",
     "output_type": "stream",
     "text": [
      "Creating genesis block\n",
      "Created block 0\n"
     ]
    },
    {
     "data": {
      "text/plain": [
       "<__main__.Blockchain at 0x24aac160f10>"
      ]
     },
     "execution_count": 36,
     "metadata": {},
     "output_type": "execute_result"
    }
   ],
   "source": [
    "# Instantiate the blockchain\n",
    "First_Block=Blockchain()\n",
    "First_Block"
   ]
  },
  {
   "cell_type": "code",
   "execution_count": 37,
   "metadata": {},
   "outputs": [
    {
     "name": "stdout",
     "output_type": "stream",
     "text": [
      "Created block 1\n"
     ]
    },
    {
     "data": {
      "text/plain": [
       "{'index': 1,\n",
       " 'timestamp': '2021-08-07T12:20:11.294540',\n",
       " 'transactions': [],\n",
       " 'previous_hash': None,\n",
       " 'hash': 'bdd6f4faae6f88aa7ba31c2e3188441d96c82025663941e74202315ec0cc0433'}"
      ]
     },
     "execution_count": 37,
     "metadata": {},
     "output_type": "execute_result"
    }
   ],
   "source": [
    "# Adding a new block to the blockchain First_Block\n",
    "First_Block.new_block()"
   ]
  },
  {
   "cell_type": "code",
   "execution_count": 38,
   "metadata": {},
   "outputs": [
    {
     "name": "stdout",
     "output_type": "stream",
     "text": [
      "Created block 2\n"
     ]
    },
    {
     "data": {
      "text/plain": [
       "{'index': 2,\n",
       " 'timestamp': '2021-08-07T12:20:11.310497',\n",
       " 'transactions': [],\n",
       " 'previous_hash': None,\n",
       " 'hash': '3d91e3e30ef96f9d820a385aeb8aadd23c54cb456a321392dad8fad150d3d654'}"
      ]
     },
     "execution_count": 38,
     "metadata": {},
     "output_type": "execute_result"
    }
   ],
   "source": [
    "First_Block.new_block()"
   ]
  },
  {
   "cell_type": "code",
   "execution_count": 39,
   "metadata": {},
   "outputs": [
    {
     "data": {
      "text/plain": [
       "{'index': 2,\n",
       " 'timestamp': '2021-08-07T12:20:11.310497',\n",
       " 'transactions': [],\n",
       " 'previous_hash': None,\n",
       " 'hash': '3d91e3e30ef96f9d820a385aeb8aadd23c54cb456a321392dad8fad150d3d654'}"
      ]
     },
     "execution_count": 39,
     "metadata": {},
     "output_type": "execute_result"
    }
   ],
   "source": [
    "First_Block.last_block()"
   ]
  },
  {
   "cell_type": "code",
   "execution_count": 40,
   "metadata": {},
   "outputs": [
    {
     "data": {
      "text/plain": [
       "[]"
      ]
     },
     "execution_count": 40,
     "metadata": {},
     "output_type": "execute_result"
    }
   ],
   "source": [
    "First_Block.pending_transactions"
   ]
  },
  {
   "cell_type": "code",
   "execution_count": 41,
   "metadata": {},
   "outputs": [
    {
     "data": {
      "text/plain": [
       "[{'index': 0,\n",
       "  'timestamp': '2021-08-07T12:20:11.279580',\n",
       "  'transactions': [],\n",
       "  'previous_hash': None,\n",
       "  'hash': '16341a2b255672881e1637fadfb3e81f182324f8755712be0e8f4e042ad948d8'},\n",
       " {'index': 1,\n",
       "  'timestamp': '2021-08-07T12:20:11.294540',\n",
       "  'transactions': [],\n",
       "  'previous_hash': None,\n",
       "  'hash': 'bdd6f4faae6f88aa7ba31c2e3188441d96c82025663941e74202315ec0cc0433'},\n",
       " {'index': 2,\n",
       "  'timestamp': '2021-08-07T12:20:11.310497',\n",
       "  'transactions': [],\n",
       "  'previous_hash': None,\n",
       "  'hash': '3d91e3e30ef96f9d820a385aeb8aadd23c54cb456a321392dad8fad150d3d654'}]"
      ]
     },
     "execution_count": 41,
     "metadata": {},
     "output_type": "execute_result"
    }
   ],
   "source": [
    "First_Block.chain"
   ]
  },
  {
   "cell_type": "markdown",
   "metadata": {},
   "source": [
    "### What is a genesis block?\n",
    "A Genesis Block is the name given to the first block a cryptocurrency, such as Bitcoin, ever mined.\n",
    "\n",
    "When our Blockchain is instantiated, we’ll need to seed it with a genesis block—a block with no predecessors and an index of 0.\n",
    "\n",
    "### What is nonce?\n",
    "\n",
    "Nonce is an attribute of a block. A nonce is an abbreviation for \"**number only used once**,\" which is a number added to a hashed—or encrypted—block in a blockchain that, when rehashed, meets the difficulty level restrictions. The nonce is the number that blockchain miners are solving for, in order to receive cryptocurrency.\n",
    "\n",
    "**Note**: It is important to distinguish between nonce header of a block (the one we are refering to above) and nonce is the number of transactions sent from a given address in Ethereum blockchain. These links [1](https://ethereum.stackexchange.com/questions/72042/what-is-the-difference-between-account-nonce-and-block-nonce) and [2](https://www.quora.com/What-is-nonce-in-Ethereum-Is-it-different-from-nonce-in-Bitcoin) will explain the difference and therefore please do not mix these two different definitions with one another! If you would like to know more about the nonce as a number of transactions see this [link](https://kb.myetherwallet.com/en/transactions/what-is-nonce/)."
   ]
  },
  {
   "cell_type": "markdown",
   "metadata": {},
   "source": [
    "<hr/>\n",
    "\n",
    "# Implementing Proof of Work\n",
    "\n",
    "\n",
    "\n",
    "\n",
    "<hr/>"
   ]
  },
  {
   "cell_type": "code",
   "execution_count": 42,
   "metadata": {},
   "outputs": [],
   "source": [
    "import random"
   ]
  },
  {
   "cell_type": "code",
   "execution_count": 43,
   "metadata": {},
   "outputs": [],
   "source": [
    "class Blockchain(object):\n",
    "    def __init__(self):\n",
    "        self.chain = []\n",
    "        self.pending_transactions = []\n",
    "\n",
    "        # Create the genesis block\n",
    "        print(\"Creating genesis block\")\n",
    "        self.chain.append(self.new_block())\n",
    "\n",
    "    def new_block(self):\n",
    "        block = {\n",
    "            'index': len(self.chain),\n",
    "            'timestamp': datetime.utcnow().isoformat(),\n",
    "            'transactions': self.pending_transactions,\n",
    "            'previous_hash': self.last_block[\"hash\"] if self.last_block else None,\n",
    "            'nonce': format(random.getrandbits(64), \"x\"),\n",
    "            #'nonce':'{0:x}'.format(random.getrandbits(64))\n",
    "            # you can use '{0:x}'.format(random.getrandbits(64)) the main idea is to conver a number into hexdecimal! \n",
    "        }\n",
    "\n",
    "        # Get the hash of this new block, and add it to the block\n",
    "        block_hash = self.hash(block)\n",
    "        block[\"hash\"] = block_hash\n",
    "\n",
    "        # Reset the list of pending transactions\n",
    "        self.pending_transactions = []\n",
    "\n",
    "        return block\n",
    "\n",
    "    @staticmethod\n",
    "    def hash(block):\n",
    "        # We ensure the dictionary is sorted or we'll have inconsistent hashes\n",
    "        block_string = json.dumps(block, sort_keys=True).encode()\n",
    "        return hashlib.sha256(block_string).hexdigest()\n",
    "\n",
    "    @property\n",
    "    def last_block(self):\n",
    "        # Returns the last block in the chain (if there are blocks)\n",
    "        return self.chain[-1] if self.chain else None\n",
    "\n",
    "    @staticmethod\n",
    "    def valid_block(block):\n",
    "        # Checks if a block's hash starts with 0000\n",
    "        return block[\"hash\"].startswith(\"0000\")\n",
    "\n",
    "    def proof_of_work(self):\n",
    "        while True:\n",
    "            new_block = self.new_block()\n",
    "            if self.valid_block(new_block):\n",
    "                break\n",
    "\n",
    "        self.chain.append(new_block)\n",
    "        print(\"Found a new block: \", new_block)"
   ]
  },
  {
   "cell_type": "code",
   "execution_count": 44,
   "metadata": {},
   "outputs": [
    {
     "name": "stdout",
     "output_type": "stream",
     "text": [
      "Creating genesis block\n"
     ]
    }
   ],
   "source": [
    "Blockchain_Rami=Blockchain()"
   ]
  },
  {
   "cell_type": "code",
   "execution_count": 45,
   "metadata": {},
   "outputs": [
    {
     "data": {
      "text/plain": [
       "{'index': 1,\n",
       " 'timestamp': '2021-08-07T12:20:11.417863',\n",
       " 'transactions': [],\n",
       " 'previous_hash': 'f802451fdb14de085083bdb9b38fa5df3ab8b6502df095149753488fe5d1b46f',\n",
       " 'nonce': '892d69fcdfcf2793',\n",
       " 'hash': '426daedc3168aeca6d8477199bd7a088a43839027ce7a4b102eb6cb7d90648cf'}"
      ]
     },
     "execution_count": 45,
     "metadata": {},
     "output_type": "execute_result"
    }
   ],
   "source": [
    "Blockchain_Rami.new_block()"
   ]
  },
  {
   "cell_type": "code",
   "execution_count": 46,
   "metadata": {},
   "outputs": [
    {
     "data": {
      "text/plain": [
       "{'index': 1,\n",
       " 'timestamp': '2021-08-07T12:20:11.433821',\n",
       " 'transactions': [],\n",
       " 'previous_hash': 'f802451fdb14de085083bdb9b38fa5df3ab8b6502df095149753488fe5d1b46f',\n",
       " 'nonce': '3bb68c9b7a66a2ab',\n",
       " 'hash': 'aca2f6416bf7b2e51371f6618e30b549a291875532af5cf27660c51551645f78'}"
      ]
     },
     "execution_count": 46,
     "metadata": {},
     "output_type": "execute_result"
    }
   ],
   "source": [
    "Blockchain_Rami.new_block()"
   ]
  },
  {
   "cell_type": "markdown",
   "metadata": {},
   "source": [
    "As you may see that the hash output does not start with ```\"0000\"```. This implies that the new created block is not added to the chain! "
   ]
  },
  {
   "cell_type": "code",
   "execution_count": 47,
   "metadata": {},
   "outputs": [
    {
     "data": {
      "text/plain": [
       "[{'index': 0,\n",
       "  'timestamp': '2021-08-07T12:20:11.401906',\n",
       "  'transactions': [],\n",
       "  'previous_hash': None,\n",
       "  'nonce': 'ce70078291ee854f',\n",
       "  'hash': 'f802451fdb14de085083bdb9b38fa5df3ab8b6502df095149753488fe5d1b46f'}]"
      ]
     },
     "execution_count": 47,
     "metadata": {},
     "output_type": "execute_result"
    }
   ],
   "source": [
    "# Let us check this!\n",
    "Blockchain_Rami.chain"
   ]
  },
  {
   "cell_type": "markdown",
   "metadata": {},
   "source": [
    "So what should we do? \n",
    "* The method created in the Blockchain class already take this into account and therefore you do not need to worry about this. \n",
    "* The only think you need to know is how to write the code such that the random variable the nonce is changed to yield a hexdecimal that **obey a generic constraint**"
   ]
  },
  {
   "cell_type": "code",
   "execution_count": 48,
   "metadata": {},
   "outputs": [
    {
     "name": "stdout",
     "output_type": "stream",
     "text": [
      "Found a new block:  {'index': 1, 'timestamp': '2021-08-07T12:20:14.500065', 'transactions': [], 'previous_hash': 'f802451fdb14de085083bdb9b38fa5df3ab8b6502df095149753488fe5d1b46f', 'nonce': '168ef327c4c6e4b9', 'hash': '00009f4b490d284fdcd00538995946b853bbde00bc55f63113ba59821263b40f'}\n"
     ]
    }
   ],
   "source": [
    "# We can call it by proof_of_work method\n",
    "Blockchain_Rami.proof_of_work()"
   ]
  },
  {
   "cell_type": "code",
   "execution_count": 49,
   "metadata": {},
   "outputs": [
    {
     "data": {
      "text/plain": [
       "[{'index': 0,\n",
       "  'timestamp': '2021-08-07T12:20:11.401906',\n",
       "  'transactions': [],\n",
       "  'previous_hash': None,\n",
       "  'nonce': 'ce70078291ee854f',\n",
       "  'hash': 'f802451fdb14de085083bdb9b38fa5df3ab8b6502df095149753488fe5d1b46f'},\n",
       " {'index': 1,\n",
       "  'timestamp': '2021-08-07T12:20:14.500065',\n",
       "  'transactions': [],\n",
       "  'previous_hash': 'f802451fdb14de085083bdb9b38fa5df3ab8b6502df095149753488fe5d1b46f',\n",
       "  'nonce': '168ef327c4c6e4b9',\n",
       "  'hash': '00009f4b490d284fdcd00538995946b853bbde00bc55f63113ba59821263b40f'}]"
      ]
     },
     "execution_count": 49,
     "metadata": {},
     "output_type": "execute_result"
    }
   ],
   "source": [
    "# Let us check again that the new block is added to the blockchain!\n",
    "Blockchain_Rami.chain"
   ]
  },
  {
   "cell_type": "code",
   "execution_count": 53,
   "metadata": {},
   "outputs": [
    {
     "data": {
      "text/plain": [
       "'2fcbbfbe540b84ce'"
      ]
     },
     "execution_count": 53,
     "metadata": {},
     "output_type": "execute_result"
    }
   ],
   "source": [
    "a=random.getrandbits(64)\n",
    "'{0:x}'.format(int(a))"
   ]
  },
  {
   "cell_type": "code",
   "execution_count": 54,
   "metadata": {},
   "outputs": [
    {
     "data": {
      "text/plain": [
       "'2fcbbfbe540b84ce'"
      ]
     },
     "execution_count": 54,
     "metadata": {},
     "output_type": "execute_result"
    }
   ],
   "source": [
    "format(a, \"x\")"
   ]
  },
  {
   "cell_type": "code",
   "execution_count": null,
   "metadata": {},
   "outputs": [],
   "source": []
  }
 ],
 "metadata": {
  "kernelspec": {
   "display_name": "Python 3",
   "language": "python",
   "name": "python3"
  },
  "language_info": {
   "codemirror_mode": {
    "name": "ipython",
    "version": 3
   },
   "file_extension": ".py",
   "mimetype": "text/x-python",
   "name": "python",
   "nbconvert_exporter": "python",
   "pygments_lexer": "ipython3",
   "version": "3.8.8"
  }
 },
 "nbformat": 4,
 "nbformat_minor": 4
}
